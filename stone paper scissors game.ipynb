{
 "cells": [
  {
   "cell_type": "code",
   "execution_count": 3,
   "metadata": {},
   "outputs": [
    {
     "name": "stdout",
     "output_type": "stream",
     "text": [
      "WElcome to stone, paper, scisor game.\n",
      "** Use sci for scisor , stn for stone , ppr for paper\n",
      "Player 1 enter your move >>stn\n",
      "Player 2 enter your move >>sci\n",
      "Player 1 wins !!\n"
     ]
    }
   ],
   "source": [
    "print('''WElcome to stone, paper, scisor game.\n",
    "** Use sci for scisor , stn for stone , ppr for paper''')\n",
    "\n",
    "pl1 = input(\"Player 1 enter your move >>\")\n",
    "pl2 = input(\"Player 2 enter your move >>\")\n",
    "\n",
    "if pl1 == \"stn\" and pl2 == \"sci\":\n",
    "    print(\"Player 1 wins !!\")\n",
    "    \n",
    "elif pl1 == \"sci\" and pl2 == \"ppr\":\n",
    "    print(\"Player 1 wins !!\")\n",
    "    \n",
    "elif pl1 == \"ppr\" and pl2 == \"stn\":\n",
    "    print(\"Player 1 wins !!\")\n",
    "    \n",
    "elif pl1 == \"sci\" and pl2 == \"stn\":\n",
    "    print(\"Player 2 wins !!\")\n",
    "    \n",
    "elif pl1 == \"ppr\" and pl2 == \"sci\":\n",
    "    print(\"Player 2 wins !!\")\n",
    "    \n",
    "elif pl1 == \"stn\" and pl2 == \"ppr\":\n",
    "    print(\"Player 2 wins !!\")\n",
    "    \n",
    "elif pl1 == \"sci\" and pl2 == \"sci\":\n",
    "    print(\"Its a draw !!\")\n",
    "    \n",
    "elif pl1 == \"stn\" and pl2 == \"stn\":\n",
    "    print(\"Its a draw !!\")\n",
    "    \n",
    "elif pl1 == \"ppr\" and pl2 == \"ppr\":\n",
    "    print(\"Its a draw !!\")\n",
    "    \n",
    "else:\n",
    "    print(\" Please use vailid keys !!\")"
   ]
  },
  {
   "cell_type": "code",
   "execution_count": null,
   "metadata": {},
   "outputs": [],
   "source": []
  }
 ],
 "metadata": {
  "kernelspec": {
   "display_name": "Python 3",
   "language": "python",
   "name": "python3"
  },
  "language_info": {
   "codemirror_mode": {
    "name": "ipython",
    "version": 3
   },
   "file_extension": ".py",
   "mimetype": "text/x-python",
   "name": "python",
   "nbconvert_exporter": "python",
   "pygments_lexer": "ipython3",
   "version": "3.8.3"
  }
 },
 "nbformat": 4,
 "nbformat_minor": 4
}
